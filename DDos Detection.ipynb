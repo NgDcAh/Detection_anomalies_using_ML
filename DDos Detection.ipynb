{
 "cells": [
  {
   "cell_type": "code",
   "execution_count": 1,
   "metadata": {
    "collapsed": true
   },
   "outputs": [],
   "source": [
    "import pandas as pd\n",
    "import numpy as np\n",
    "import matplotlib.pyplot as plt\n",
    "from sklearn.metrics import accuracy_score,precision_score,recall_score,f1_score"
   ]
  },
  {
   "cell_type": "code",
   "execution_count": 2,
   "outputs": [],
   "source": [
    "dtypes = {\n",
    "    'Src IP': 'category',\n",
    "    'Src Port': 'uint16',\n",
    "    'Dst IP': 'category',\n",
    "    'Dst Port': 'uint16',\n",
    "    'Protocol': 'category',\n",
    "    'Flow Duration': 'uint32',\n",
    "    'Fwd Pkt Len Max': 'float32',\n",
    "    'Fwd Pkt Len Min': 'float32',\n",
    "    'Bwd Pkt Len Max': 'float32',\n",
    "    'Bwd Pkt Len Min': 'float32',\n",
    "    'Flow IAT Mean': 'float32',\n",
    "    'Flow IAT Std': 'float32',\n",
    "    'Flow IAT Max': 'float32',\n",
    "    'Flow IAT Min': 'float32',\n",
    "    'Fwd IAT Tot': 'float32',\n",
    "    'Fwd IAT Mean': 'float32',\n",
    "    'Fwd IAT Std': 'float32',\n",
    "    'Bwd IAT Mean': 'float32',\n",
    "    'Bwd IAT Std': 'float32',\n",
    "    'Fwd Pkts/s': 'float32',\n",
    "    'Bwd Pkts/s': 'float32',\n",
    "    'Pkt Len Min': 'float32',\n",
    "    'Pkt Len Max': 'float32',\n",
    "    'Pkt Len Mean': 'float32',\n",
    "    'Pkt Len Std': 'float32',\n",
    "    'Pkt Len Var': 'float32',\n",
    "    'SYN Flag Cnt': 'category',\n",
    "    'RST Flag Cnt': 'category',\n",
    "    'PSH Flag Cnt': 'category',\n",
    "    'ACK Flag Cnt': 'category',\n",
    "    'ECE Flag Cnt': 'category',\n",
    "    'CWE Flag Count': 'category',\n",
    "    'Down/Up Ratio': 'float32',\n",
    "    'Pkt Size Avg': 'float32',\n",
    "    'Init Fwd Win Byts': 'uint32',\n",
    "    'Init Bwd Win Byts': 'uint32',\n",
    "    'Active Mean': 'float32',\n",
    "    'Active Std': 'float32',\n",
    "    'Active Max': 'float32',\n",
    "    'Active Min': 'float32',\n",
    "    'Idle Mean': 'float32',\n",
    "    'Idle Std': 'float32',\n",
    "    'Idle Max': 'float32',\n",
    "    'Idle Min': 'float32',\n",
    "    'Label': 'category'\n",
    "}"
   ],
   "metadata": {
    "collapsed": false
   }
  },
  {
   "cell_type": "code",
   "execution_count": 3,
   "outputs": [],
   "source": [
    "df = pd.read_csv(\"E:\\\\DataSet\\\\final_dataset.csv\",\n",
    "                 dtype=dtypes,\n",
    "                 usecols=[*dtypes.keys()],\n",
    "                 engine='c',\n",
    "                 low_memory=True)\n",
    "#df = df.sample(frac=0.7)\n",
    "del dtypes"
   ],
   "metadata": {
    "collapsed": false
   }
  },
  {
   "cell_type": "code",
   "execution_count": 4,
   "outputs": [],
   "source": [
    "df=df.drop(['Src IP','Dst IP'], axis=1)"
   ],
   "metadata": {
    "collapsed": false
   }
  },
  {
   "cell_type": "code",
   "execution_count": 5,
   "outputs": [],
   "source": [
    "df['Label'] = df['Label'].map({'ddos':1, 'Benign':0})"
   ],
   "metadata": {
    "collapsed": false
   }
  },
  {
   "cell_type": "code",
   "execution_count": 6,
   "outputs": [],
   "source": [
    "cols=['Protocol','SYN Flag Cnt','ACK Flag Cnt','RST Flag Cnt','PSH Flag Cnt','CWE Flag Count','ECE Flag Cnt','Label']\n",
    "for col in cols:\n",
    "    df[col]=df[col].astype('uint16')\n",
    "del cols"
   ],
   "metadata": {
    "collapsed": false
   }
  },
  {
   "cell_type": "code",
   "execution_count": 7,
   "outputs": [],
   "source": [
    "Y=df['Label']\n",
    "X=df.drop(['Label'], axis=1)\n",
    "del df"
   ],
   "metadata": {
    "collapsed": false
   }
  },
  {
   "cell_type": "code",
   "execution_count": 8,
   "outputs": [],
   "source": [
    "from sklearn.model_selection import train_test_split\n",
    "X_train,X_test,Y_train,Y_test=train_test_split(X,Y,test_size=0.2,random_state=1)\n",
    "del X,Y"
   ],
   "metadata": {
    "collapsed": false
   }
  },
  {
   "cell_type": "code",
   "execution_count": 9,
   "outputs": [],
   "source": [
    "from sklearn.preprocessing import MinMaxScaler\n",
    "scaler=MinMaxScaler()\n",
    "scaler.fit(X_train)\n",
    "X_train=scaler.transform(X_train)\n",
    "X_test=scaler.transform(X_test)"
   ],
   "metadata": {
    "collapsed": false
   }
  },
  {
   "cell_type": "code",
   "execution_count": 10,
   "outputs": [],
   "source": [
    "Y_train = Y_train.values.reshape(-1, 1)\n",
    "Y_test = Y_test.values.reshape(-1, 1)"
   ],
   "metadata": {
    "collapsed": false
   }
  },
  {
   "cell_type": "code",
   "execution_count": 11,
   "outputs": [],
   "source": [
    "#RandomForestClassifier\n",
    "from sklearn.ensemble import RandomForestClassifier\n",
    "model = RandomForestClassifier()\n",
    "model.fit(X_train, np.ravel(Y_train))"
   ],
   "metadata": {
    "collapsed": false
   }
  },
  {
   "cell_type": "code",
   "execution_count": 12,
   "outputs": [],
   "source": [
    "RF_pred = model.predict(X_test)\n",
    "print(\"Accuracy: \", accuracy_score(Y_test,RF_pred))\n",
    "print(\"Precision Score: \", precision_score(Y_test,RF_pred))\n",
    "print(\"Recall Score: \", recall_score(Y_test,RF_pred))\n",
    "print(\"F1 Score: \", f1_score(Y_test,RF_pred))"
   ],
   "metadata": {
    "collapsed": false
   }
  },
  {
   "cell_type": "code",
   "execution_count": null,
   "outputs": [],
   "source": [
    "from sklearn.linear_model import LogisticRegression\n",
    "logreg=LogisticRegression(solver='sag',random_state=123)\n",
    "logreg.fit(X_train,np.ravel(Y_train))"
   ],
   "metadata": {
    "collapsed": false
   }
  },
  {
   "cell_type": "code",
   "execution_count": null,
   "outputs": [],
   "source": [
    "#Evaluating on test set\n",
    "LR_pred=logreg.predict(X_test)\n",
    "\n",
    "#Scores\n",
    "print(\"Accuracy: \", accuracy_score(Y_test,LR_pred))\n",
    "print(\"Precision Score: \", precision_score(Y_test,LR_pred))\n",
    "print(\"Recall Score: \", recall_score(Y_test,LR_pred))\n",
    "print(\"F1 Score: \", f1_score(Y_test,LR_pred))"
   ],
   "metadata": {
    "collapsed": false
   }
  },
  {
   "cell_type": "code",
   "execution_count": null,
   "outputs": [],
   "source": [
    "from sklearn.svm import SVC\n",
    "svc = SVC(kernel ='sigmoid', random_state = 0)\n",
    "svc.fit(X_train, np.ravel(Y_train))"
   ],
   "metadata": {
    "collapsed": false
   }
  },
  {
   "cell_type": "code",
   "execution_count": null,
   "outputs": [],
   "source": [
    "#Evaluating with test set\n",
    "svc_pred=svc.predict(X_test)\n",
    "\n",
    "#Scores\n",
    "print(\"Accuracy: \", accuracy_score(Y_test,svc_pred))\n",
    "print(\"Precision Score: \", precision_score(Y_test,svc_pred))\n",
    "print(\"Recall Score: \", recall_score(Y_test,svc_pred))\n",
    "print(\"F1 Score: \", f1_score(Y_test,svc_pred))"
   ],
   "metadata": {
    "collapsed": false
   }
  },
  {
   "cell_type": "code",
   "execution_count": null,
   "outputs": [],
   "source": [
    "from sklearn.neighbors import KNeighborsClassifier\n",
    "knn = KNeighborsClassifier()\n",
    "knn.fit(X_train, np.ravel(Y_train))"
   ],
   "metadata": {
    "collapsed": false
   }
  },
  {
   "cell_type": "code",
   "execution_count": null,
   "outputs": [],
   "source": [
    "#Evalutating on test set\n",
    "knn_pred=knn.predict(X_test)\n",
    "\n",
    "#Scores\n",
    "print(\"Accuracy: \", accuracy_score(Y_test,knn_pred))\n",
    "print(\"Precision Score: \", precision_score(Y_test,knn_pred))\n",
    "print(\"Recall Score: \", recall_score(Y_test,knn_pred))\n",
    "print(\"F1 Score: \", f1_score(Y_test,knn_pred))"
   ],
   "metadata": {
    "collapsed": false
   }
  }
 ],
 "metadata": {
  "kernelspec": {
   "display_name": "Python 3",
   "language": "python",
   "name": "python3"
  },
  "language_info": {
   "codemirror_mode": {
    "name": "ipython",
    "version": 2
   },
   "file_extension": ".py",
   "mimetype": "text/x-python",
   "name": "python",
   "nbconvert_exporter": "python",
   "pygments_lexer": "ipython2",
   "version": "2.7.6"
  }
 },
 "nbformat": 4,
 "nbformat_minor": 0
}
