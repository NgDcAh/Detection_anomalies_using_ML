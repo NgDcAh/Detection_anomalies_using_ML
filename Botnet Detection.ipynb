{
 "cells": [
  {
   "cell_type": "code",
   "execution_count": null,
   "metadata": {
    "collapsed": true
   },
   "outputs": [],
   "source": [
    "import numpy as np\n",
    "import pandas as pd\n",
    "from sklearn.metrics import accuracy_score, classification_report, f1_score, confusion_matrix, precision_score, \\\n",
    "    recall_score\n",
    "from sklearn.model_selection import train_test_split\n",
    "from sklearn.preprocessing import StandardScaler\n",
    "from sklearn.utils import shuffle"
   ]
  },
  {
   "cell_type": "code",
   "execution_count": null,
   "outputs": [],
   "source": [
    "path = \"E:\\\\DataSet\\\\Botnet\\\\\"\n",
    "benign = pd.read_csv(path + \"1.benign.csv\")\n",
    "\n",
    "mirai_scan = pd.read_csv(path + \"1.mirai.scan.csv\").head(19427)\n",
    "mirai_syn = pd.read_csv(path + \"1.mirai.syn.csv\").head(19427)\n",
    "mirai_ack = pd.read_csv(path + \"1.mirai.ack.csv\").head(19427)\n",
    "mirai_udp = pd.read_csv(path + \"1.mirai.udp.csv\").head(19427)\n",
    "mirai_udpplain = pd.read_csv(path + \"1.mirai.udpplain.csv\").head(19427)\n",
    "gafgyt_junk = pd.read_csv(path + \"1.gafgyt.junk.csv\").head(19427)\n",
    "gafgyt_scan = pd.read_csv(path + \"1.gafgyt.scan.csv\").head(19427)\n",
    "gafgyt_tcp = pd.read_csv(path + \"1.gafgyt.tcp.csv\").head(19427)\n",
    "gafgyt_udp = pd.read_csv(path + \"1.gafgyt.udp.csv\").head(19427)\n",
    "\n",
    "malicious_gafgyt_list = [gafgyt_junk, gafgyt_scan, gafgyt_tcp, gafgyt_udp]\n",
    "malicious_mirai_list = [mirai_scan, mirai_syn, mirai_ack, mirai_udp, mirai_udpplain]\n",
    "malicious_gafgyt_concat = pd.concat(malicious_gafgyt_list)\n",
    "malicious_mirai_concat = pd.concat(malicious_mirai_list)\n",
    "\n",
    "malicious_mirai_concat['Detection'] = \"mirai\"\n",
    "malicious_gafgyt_concat['Detection'] = \"gafgyt\"\n",
    "benign['Detection'] = \"benign\"\n",
    "\n",
    "combine_data = pd.concat([benign, malicious_mirai_concat, malicious_gafgyt_concat], axis=0)\n",
    "combine_data = shuffle(combine_data)"
   ],
   "metadata": {
    "collapsed": false
   }
  },
  {
   "cell_type": "code",
   "execution_count": null,
   "outputs": [],
   "source": [
    "labels = combine_data.iloc[:, -1]\n",
    "labels = np.array(labels).flatten()\n",
    "\n",
    "no_labels_data = combine_data.iloc[:, :28]\n",
    "\n",
    "# Standardizing the data\n",
    "scale = StandardScaler()\n",
    "scale.fit(no_labels_data)\n",
    "scale.transform(no_labels_data)\n",
    "\n",
    "# Performing train test split\n",
    "X_train, X_test, Y_train, Y_test = train_test_split(no_labels_data, labels, test_size=0.25, shuffle=True)"
   ],
   "metadata": {
    "collapsed": false
   }
  },
  {
   "cell_type": "code",
   "execution_count": null,
   "outputs": [],
   "source": [
    "from sklearn.ensemble import RandomForestClassifier\n",
    "clf = RandomForestClassifier()\n",
    "clf.fit(X_train, np.ravel(Y_train))"
   ],
   "metadata": {
    "collapsed": false
   }
  },
  {
   "cell_type": "code",
   "execution_count": null,
   "outputs": [],
   "source": [
    "RF_pred = clf.predict(X_test)\n",
    "print(\"Accuracy: \", accuracy_score(Y_test,RF_pred))\n",
    "print(\"Precision Score: \", precision_score(Y_test,RF_pred, average='weighted'))\n",
    "print(\"Recall Score: \", recall_score(Y_test,RF_pred, average='weighted'))\n",
    "print(\"F1 Score: \", f1_score(Y_test,RF_pred, average='weighted'))"
   ],
   "metadata": {
    "collapsed": false
   }
  },
  {
   "cell_type": "code",
   "execution_count": null,
   "outputs": [],
   "source": [
    "from sklearn.linear_model import LogisticRegression\n",
    "logreg=LogisticRegression(solver='lbfgs',max_iter=1000)\n",
    "logreg.fit(X_train,Y_train)"
   ],
   "metadata": {
    "collapsed": false
   }
  },
  {
   "cell_type": "code",
   "execution_count": null,
   "outputs": [],
   "source": [
    "LR_pred = logreg.predict(X_test)\n",
    "print(\"Accuracy: \", accuracy_score(Y_test,LR_pred))\n",
    "print(\"Precision Score: \", precision_score(Y_test,LR_pred, average='weighted'))\n",
    "print(\"Recall Score: \", recall_score(Y_test,LR_pred, average='weighted'))\n",
    "print(\"F1 Score: \", f1_score(Y_test,LR_pred, average='weighted'))"
   ],
   "metadata": {
    "collapsed": false
   }
  },
  {
   "cell_type": "code",
   "execution_count": null,
   "outputs": [],
   "source": [
    "from sklearn.svm import SVC\n",
    "svc = SVC()\n",
    "svc.fit(X_train, Y_train)"
   ],
   "metadata": {
    "collapsed": false
   }
  },
  {
   "cell_type": "code",
   "execution_count": null,
   "outputs": [],
   "source": [
    "SVC_pred = svc.predict(X_test)\n",
    "print(\"Accuracy: \", accuracy_score(Y_test,SVC_pred))\n",
    "print(\"Precision Score: \", precision_score(Y_test,SVC_pred, average='weighted'))\n",
    "print(\"Recall Score: \", recall_score(Y_test,SVC_pred, average='weighted'))\n",
    "print(\"F1 Score: \", f1_score(Y_test,SVC_pred, average='weighted'))"
   ],
   "metadata": {
    "collapsed": false
   }
  },
  {
   "cell_type": "code",
   "execution_count": null,
   "outputs": [],
   "source": [
    "from sklearn.neighbors import KNeighborsClassifier\n",
    "knn = KNeighborsClassifier()\n",
    "knn.fit(X_train, Y_train)"
   ],
   "metadata": {
    "collapsed": false
   }
  },
  {
   "cell_type": "code",
   "execution_count": null,
   "outputs": [],
   "source": [
    "KNN_pred = knn.predict(X_test)\n",
    "print(\"Accuracy: \", accuracy_score(Y_test,KNN_pred))\n",
    "print(\"Precision Score: \", precision_score(Y_test,KNN_pred, average='weighted'))\n",
    "print(\"Recall Score: \", recall_score(Y_test,KNN_pred, average='weighted'))\n",
    "print(\"F1 Score: \", f1_score(Y_test,KNN_pred, average='weighted'))"
   ],
   "metadata": {
    "collapsed": false
   }
  }
 ],
 "metadata": {
  "kernelspec": {
   "display_name": "Python 3",
   "language": "python",
   "name": "python3"
  },
  "language_info": {
   "codemirror_mode": {
    "name": "ipython",
    "version": 2
   },
   "file_extension": ".py",
   "mimetype": "text/x-python",
   "name": "python",
   "nbconvert_exporter": "python",
   "pygments_lexer": "ipython2",
   "version": "2.7.6"
  }
 },
 "nbformat": 4,
 "nbformat_minor": 0
}
