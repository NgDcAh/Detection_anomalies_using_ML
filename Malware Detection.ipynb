{
 "cells": [
  {
   "cell_type": "code",
   "execution_count": null,
   "metadata": {
    "collapsed": true
   },
   "outputs": [],
   "source": [
    "import pandas as pd\n",
    "import numpy as np\n",
    "import matplotlib.pyplot as plt"
   ]
  },
  {
   "cell_type": "code",
   "execution_count": null,
   "outputs": [],
   "source": [
    "df=pd.read_csv('E:\\\\DataSet\\\\Malware_Detection_data.csv', sep='|', low_memory=False)"
   ],
   "metadata": {
    "collapsed": false
   }
  },
  {
   "cell_type": "code",
   "execution_count": null,
   "outputs": [],
   "source": [
    "df.shape"
   ],
   "metadata": {
    "collapsed": false
   }
  },
  {
   "cell_type": "code",
   "execution_count": null,
   "outputs": [],
   "source": [
    "df.to_csv('malware_2.csv')"
   ],
   "metadata": {
    "collapsed": false
   }
  },
  {
   "cell_type": "code",
   "execution_count": null,
   "outputs": [],
   "source": [
    "legit=df[0:41323].drop(['legitimate'], axis=1)\n",
    "mal=df[41323::].drop(['legitimate'], axis=1)"
   ],
   "metadata": {
    "collapsed": false
   }
  },
  {
   "cell_type": "code",
   "execution_count": null,
   "outputs": [],
   "source": [
    "Y=df['legitimate']\n",
    "X=df.drop(['legitimate','md5','Name'], axis=1)"
   ],
   "metadata": {
    "collapsed": false
   }
  },
  {
   "cell_type": "code",
   "execution_count": null,
   "outputs": [],
   "source": [
    "from sklearn.model_selection import train_test_split\n",
    "X_train, X_test, Y_train, Y_test = train_test_split(X,Y,test_size=0.2, random_state=42)"
   ],
   "metadata": {
    "collapsed": false
   }
  },
  {
   "cell_type": "code",
   "execution_count": null,
   "outputs": [],
   "source": [
    "X_train.shape"
   ],
   "metadata": {
    "collapsed": false
   }
  },
  {
   "cell_type": "code",
   "execution_count": null,
   "outputs": [],
   "source": [
    "from sklearn.ensemble import RandomForestClassifier\n",
    "from sklearn.datasets import make_classification\n",
    "clf = RandomForestClassifier(max_depth=2, random_state=0)\n",
    "clf.fit(X_train, Y_train)"
   ],
   "metadata": {
    "collapsed": false
   }
  },
  {
   "cell_type": "code",
   "execution_count": null,
   "outputs": [],
   "source": [
    "from sklearn.metrics import accuracy_score,precision_score,recall_score,f1_score\n",
    "prediction = clf.predict(X_test)\n",
    "print(\"Accuracy: \", accuracy_score(Y_test,prediction))\n",
    "print(\"Precision Score: \", precision_score(Y_test,prediction))\n",
    "print(\"Recall Score: \", recall_score(Y_test,prediction))\n",
    "print(\"F1 Score: \", f1_score(Y_test,prediction))"
   ],
   "metadata": {
    "collapsed": false
   }
  },
  {
   "cell_type": "code",
   "execution_count": null,
   "outputs": [],
   "source": [
    "from sklearn.linear_model import LogisticRegression\n",
    "logreg=LogisticRegression(solver='saga',random_state=0,max_iter=10000)\n",
    "logreg.fit(X_train,Y_train)"
   ],
   "metadata": {
    "collapsed": false
   }
  },
  {
   "cell_type": "code",
   "execution_count": null,
   "outputs": [],
   "source": [
    "LR_pred=logreg.predict(X_test)\n",
    "\n",
    "#Scores\n",
    "print(\"Accuracy: \",accuracy_score(Y_test,LR_pred))\n",
    "print(\"Precision Score: \",precision_score(Y_test,LR_pred))\n",
    "print(\"Recall Score: \",recall_score(Y_test,LR_pred))\n",
    "print(\"F1 Score: \",f1_score(Y_test,LR_pred))"
   ],
   "metadata": {
    "collapsed": false
   }
  },
  {
   "cell_type": "code",
   "execution_count": null,
   "outputs": [],
   "source": [
    "from sklearn.svm import SVC\n",
    "svc = SVC(kernel ='sigmoid', random_state = 0)\n",
    "svc.fit(X_train, Y_train)"
   ],
   "metadata": {
    "collapsed": false
   }
  },
  {
   "cell_type": "code",
   "execution_count": null,
   "outputs": [],
   "source": [
    "svc_pred=svc.predict(X_test)\n",
    "\n",
    "#Scores\n",
    "print(\"Accuracy: \",accuracy_score(Y_test,svc_pred))\n",
    "print(\"Precision Score: \",precision_score(Y_test,svc_pred))\n",
    "print(\"Recall Score: \",recall_score(Y_test,svc_pred))\n",
    "print(\"F1 Score: \",f1_score(Y_test,svc_pred))"
   ],
   "metadata": {
    "collapsed": false
   }
  },
  {
   "cell_type": "code",
   "execution_count": null,
   "outputs": [],
   "source": [
    "from sklearn.neighbors import KNeighborsClassifier\n",
    "knn = KNeighborsClassifier()\n",
    "knn.fit(X_train, Y_train)"
   ],
   "metadata": {
    "collapsed": false
   }
  },
  {
   "cell_type": "code",
   "execution_count": null,
   "outputs": [],
   "source": [
    "knn_pred=knn.predict(X_test)\n",
    "\n",
    "#Scores\n",
    "print(\"Accuracy: \",accuracy_score(Y_test,knn_pred))\n",
    "print(\"Precision Score: \",precision_score(Y_test,knn_pred))\n",
    "print(\"Recall Score: \",recall_score(Y_test,knn_pred))\n",
    "print(\"F1 Score: \",f1_score(Y_test,knn_pred))"
   ],
   "metadata": {
    "collapsed": false
   }
  }
 ],
 "metadata": {
  "kernelspec": {
   "display_name": "Python 3",
   "language": "python",
   "name": "python3"
  },
  "language_info": {
   "codemirror_mode": {
    "name": "ipython",
    "version": 2
   },
   "file_extension": ".py",
   "mimetype": "text/x-python",
   "name": "python",
   "nbconvert_exporter": "python",
   "pygments_lexer": "ipython2",
   "version": "2.7.6"
  }
 },
 "nbformat": 4,
 "nbformat_minor": 0
}
